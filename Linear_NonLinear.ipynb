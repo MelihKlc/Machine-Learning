{
  "nbformat": 4,
  "nbformat_minor": 0,
  "metadata": {
    "colab": {
      "provenance": [],
      "authorship_tag": "ABX9TyMAjrxtz+6NRF0MkjKA4jmP",
      "include_colab_link": true
    },
    "kernelspec": {
      "name": "python3",
      "display_name": "Python 3"
    },
    "language_info": {
      "name": "python"
    }
  },
  "cells": [
    {
      "cell_type": "markdown",
      "metadata": {
        "id": "view-in-github",
        "colab_type": "text"
      },
      "source": [
        "<a href=\"https://colab.research.google.com/github/MelihKlc/Machine-Learning/blob/main/Linear_NonLinear.ipynb\" target=\"_parent\"><img src=\"https://colab.research.google.com/assets/colab-badge.svg\" alt=\"Open In Colab\"/></a>"
      ]
    },
    {
      "cell_type": "code",
      "execution_count": 1,
      "metadata": {
        "id": "_XZcgILif0GY"
      },
      "outputs": [],
      "source": [
        "from sklearn.datasets import make_circles\n",
        "\n",
        "#Make 1000 examples\n",
        "n_samples = 1000\n",
        "\n",
        "# Create a circle\n",
        "\n",
        "X , y = make_circles(n_samples,\n",
        "                      noise = 0.03 ,\n",
        "                      random_state = 42\n",
        "                      )"
      ]
    },
    {
      "cell_type": "code",
      "source": [
        "# General imports\n",
        "import numpy as np\n",
        "import pandas as pd\n",
        "import matplotlib.pyplot as plt\n",
        "from sklearn.linear_model import LinearRegression\n",
        "regressor = LinearRegression().fit(X, y)\n",
        "# Checking the accuracy\n",
        "from sklearn.metrics import r2_score\n",
        "print(r2_score(regressor.predict(X), y))"
      ],
      "metadata": {
        "colab": {
          "base_uri": "https://localhost:8080/"
        },
        "id": "ICar5-UAf6Yj",
        "outputId": "863a4132-a382-4708-e982-1ea2aeba1996"
      },
      "execution_count": 4,
      "outputs": [
        {
          "output_type": "stream",
          "name": "stdout",
          "text": [
            "-1615143.6246637779\n"
          ]
        }
      ]
    },
    {
      "cell_type": "code",
      "source": [],
      "metadata": {
        "id": "xpb8ZU_vgTMm"
      },
      "execution_count": null,
      "outputs": []
    }
  ]
}